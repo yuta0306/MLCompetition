{
  "nbformat": 4,
  "nbformat_minor": 0,
  "metadata": {
    "colab": {
      "name": "fishfinder.ipynb",
      "provenance": [],
      "collapsed_sections": [],
      "mount_file_id": "1_ZSSO5WKXW5YDmD1UfVZtm2CFOwKuNaF",
      "authorship_tag": "ABX9TyMR12LIxzSKb3rGslGNBKck",
      "include_colab_link": true
    },
    "kernelspec": {
      "name": "python3",
      "display_name": "Python 3"
    },
    "accelerator": "GPU"
  },
  "cells": [
    {
      "cell_type": "markdown",
      "metadata": {
        "id": "view-in-github",
        "colab_type": "text"
      },
      "source": [
        "<a href=\"https://colab.research.google.com/github/yuta0306/MLCompetition/blob/main/fishfinder.ipynb\" target=\"_parent\"><img src=\"https://colab.research.google.com/assets/colab-badge.svg\" alt=\"Open In Colab\"/></a>"
      ]
    },
    {
      "cell_type": "code",
      "metadata": {
        "colab": {
          "base_uri": "https://localhost:8080/"
        },
        "id": "NTsS4B5NGxiB",
        "outputId": "c56cb7b0-e00a-4949-eab2-fa56aa3c8a5e"
      },
      "source": [
        "!ls drive/MyDrive/fishfinder/datasets"
      ],
      "execution_count": 4,
      "outputs": [
        {
          "output_type": "stream",
          "text": [
            " test_images\t  train_annotations  'train_images 2'  'train_images 4'\n",
            "'test_images 2'   train_images\t     'train_images 3'  'train_images 5'\n"
          ],
          "name": "stdout"
        }
      ]
    },
    {
      "cell_type": "markdown",
      "metadata": {
        "id": "-fbE-ygKMQ6M"
      },
      "source": [
        "## FILE PATH"
      ]
    },
    {
      "cell_type": "code",
      "metadata": {
        "id": "9kw4mCCWG_Sc"
      },
      "source": [
        "TRAIN_PATH = [f'drive/MyDrive/fishfinder/datasets/{path}'\n",
        "                  for path in ('train_images', 'train_images 2', 'train_images 3', 'train_images 4', 'train_images 5')]\n",
        "TEST_PATH = 'drive/MyDrive/fishfinder/datasets/test_images'\n",
        "ANNOTATION_PATH = 'drive/MyDrive/fishfinder/datasets/train_annotations'"
      ],
      "execution_count": 5,
      "outputs": []
    },
    {
      "cell_type": "markdown",
      "metadata": {
        "id": "OAdusBP-7GbK"
      },
      "source": [
        "## Detection Object"
      ]
    },
    {
      "cell_type": "code",
      "metadata": {
        "id": "g_qE7xVb67tm"
      },
      "source": [
        "classes = ('Breezer School', 'Jumper School')\n",
        "num_class = len(classes) + 1\n",
        "class_label = (1, 2)"
      ],
      "execution_count": 6,
      "outputs": []
    },
    {
      "cell_type": "markdown",
      "metadata": {
        "id": "dO6zCXlrMX5E"
      },
      "source": [
        "## Import Libraries"
      ]
    },
    {
      "cell_type": "code",
      "metadata": {
        "id": "m2o3tctqMpup"
      },
      "source": [
        "import os\n",
        "import sys\n",
        "import re\n",
        "from tqdm import  tqdm"
      ],
      "execution_count": 7,
      "outputs": []
    },
    {
      "cell_type": "code",
      "metadata": {
        "id": "ylusO5BUIBf1"
      },
      "source": [
        "import numpy as np\n",
        "import pandas as pd\n",
        "import matplotlib.pyplot as plt\n",
        "\n",
        "import torch\n",
        "import torch.nn as nn\n",
        "import torch.nn.functional as F\n",
        "from torch.optim import  Adam, SGD\n",
        "from torch.utils.data import TensorDataset, DataLoader\n",
        "import torchvision\n",
        "from torchvision import transforms\n",
        "\n",
        "from PIL import Image\n",
        "\n",
        "from sklearn.model_selection import StratifiedKFold, train_test_split"
      ],
      "execution_count": 8,
      "outputs": []
    },
    {
      "cell_type": "code",
      "metadata": {
        "id": "XCbziAJ5Ib9G"
      },
      "source": [
        "import torchvision.models.detection.faster_rcnn as faster_rcnn"
      ],
      "execution_count": 9,
      "outputs": []
    },
    {
      "cell_type": "markdown",
      "metadata": {
        "id": "LFqqpYmbMfoe"
      },
      "source": [
        "## Preprocessing"
      ]
    },
    {
      "cell_type": "code",
      "metadata": {
        "id": "uxvFKJz8MiRT"
      },
      "source": [
        "train_path = [\n",
        "              [top, path[2]]\n",
        "              for top in TRAIN_PATH\n",
        "              for i, path in enumerate(os.walk(top=top))\n",
        "]\n",
        "train_path = [f'{top}/{path}' for top, paths in train_path\n",
        "                for path in paths]\n",
        "test_path = [path[2] for i, path in enumerate(os.walk(top=TEST_PATH))][0]\n",
        "test_path = [f'{TEST_PATH}/{path}' for path in test_path]"
      ],
      "execution_count": 10,
      "outputs": []
    },
    {
      "cell_type": "code",
      "metadata": {
        "colab": {
          "base_uri": "https://localhost:8080/"
        },
        "id": "cP_I_h9UNB4J",
        "outputId": "925313b2-643a-4ef9-a6fd-e69a80de560d"
      },
      "source": [
        "print(len(train_path))\n",
        "print(len(test_path))"
      ],
      "execution_count": 11,
      "outputs": [
        {
          "output_type": "stream",
          "text": [
            "3387\n",
            "744\n"
          ],
          "name": "stdout"
        }
      ]
    },
    {
      "cell_type": "code",
      "metadata": {
        "colab": {
          "base_uri": "https://localhost:8080/"
        },
        "id": "AgyPpWBnQGws",
        "outputId": "d7b95a48-a7a3-476d-9963-e949291f7cd5"
      },
      "source": [
        "annotation_path = [path[2] for i, path in enumerate(os.walk(top=ANNOTATION_PATH))][0]\n",
        "annotation_path = [f'{ANNOTATION_PATH}/{path}' for path in annotation_path]\n",
        "print(len(annotation_path))"
      ],
      "execution_count": 12,
      "outputs": [
        {
          "output_type": "stream",
          "text": [
            "3387\n"
          ],
          "name": "stdout"
        }
      ]
    },
    {
      "cell_type": "code",
      "metadata": {
        "id": "DDkMbDNyQv9X"
      },
      "source": [
        "train_path = sorted(train_path, key=lambda x: re.split('/', x)[-1])\n",
        "test_path = sorted(test_path, key=lambda x: re.split('/', x)[-1])\n",
        "annotation_path = sorted(annotation_path, key=lambda x: re.split('/', x)[-1])"
      ],
      "execution_count": 13,
      "outputs": []
    },
    {
      "cell_type": "code",
      "metadata": {
        "id": "S-UsETo3Q4d8"
      },
      "source": [
        "rows = [\n",
        "      [image_path, json_path]\n",
        "        for image_path, json_path in zip(train_path, annotation_path)\n",
        "]"
      ],
      "execution_count": 14,
      "outputs": []
    },
    {
      "cell_type": "code",
      "metadata": {
        "id": "3w8w0T8qcOLv",
        "colab": {
          "base_uri": "https://localhost:8080/",
          "height": 419
        },
        "outputId": "b6c69f08-19ac-4236-efdb-bdfe7c83ce99"
      },
      "source": [
        "df_path = pd.DataFrame(rows, columns=['image', 'json_path'])\n",
        "pd.options.display.max_colwidth = 100\n",
        "df_path"
      ],
      "execution_count": 15,
      "outputs": [
        {
          "output_type": "execute_result",
          "data": {
            "text/html": [
              "<div>\n",
              "<style scoped>\n",
              "    .dataframe tbody tr th:only-of-type {\n",
              "        vertical-align: middle;\n",
              "    }\n",
              "\n",
              "    .dataframe tbody tr th {\n",
              "        vertical-align: top;\n",
              "    }\n",
              "\n",
              "    .dataframe thead th {\n",
              "        text-align: right;\n",
              "    }\n",
              "</style>\n",
              "<table border=\"1\" class=\"dataframe\">\n",
              "  <thead>\n",
              "    <tr style=\"text-align: right;\">\n",
              "      <th></th>\n",
              "      <th>image</th>\n",
              "      <th>json_path</th>\n",
              "    </tr>\n",
              "  </thead>\n",
              "  <tbody>\n",
              "    <tr>\n",
              "      <th>0</th>\n",
              "      <td>drive/MyDrive/fishfinder/datasets/train_images 5/train_0000.jpg</td>\n",
              "      <td>drive/MyDrive/fishfinder/datasets/train_annotations/train_0000.json</td>\n",
              "    </tr>\n",
              "    <tr>\n",
              "      <th>1</th>\n",
              "      <td>drive/MyDrive/fishfinder/datasets/train_images 5/train_0001.jpg</td>\n",
              "      <td>drive/MyDrive/fishfinder/datasets/train_annotations/train_0001.json</td>\n",
              "    </tr>\n",
              "    <tr>\n",
              "      <th>2</th>\n",
              "      <td>drive/MyDrive/fishfinder/datasets/train_images 5/train_0002.jpg</td>\n",
              "      <td>drive/MyDrive/fishfinder/datasets/train_annotations/train_0002.json</td>\n",
              "    </tr>\n",
              "    <tr>\n",
              "      <th>3</th>\n",
              "      <td>drive/MyDrive/fishfinder/datasets/train_images 5/train_0003.jpg</td>\n",
              "      <td>drive/MyDrive/fishfinder/datasets/train_annotations/train_0003.json</td>\n",
              "    </tr>\n",
              "    <tr>\n",
              "      <th>4</th>\n",
              "      <td>drive/MyDrive/fishfinder/datasets/train_images 5/train_0004.jpg</td>\n",
              "      <td>drive/MyDrive/fishfinder/datasets/train_annotations/train_0004.json</td>\n",
              "    </tr>\n",
              "    <tr>\n",
              "      <th>...</th>\n",
              "      <td>...</td>\n",
              "      <td>...</td>\n",
              "    </tr>\n",
              "    <tr>\n",
              "      <th>3382</th>\n",
              "      <td>drive/MyDrive/fishfinder/datasets/train_images/train_3382.jpg</td>\n",
              "      <td>drive/MyDrive/fishfinder/datasets/train_annotations/train_3382.json</td>\n",
              "    </tr>\n",
              "    <tr>\n",
              "      <th>3383</th>\n",
              "      <td>drive/MyDrive/fishfinder/datasets/train_images/train_3383.jpg</td>\n",
              "      <td>drive/MyDrive/fishfinder/datasets/train_annotations/train_3383.json</td>\n",
              "    </tr>\n",
              "    <tr>\n",
              "      <th>3384</th>\n",
              "      <td>drive/MyDrive/fishfinder/datasets/train_images/train_3384.jpg</td>\n",
              "      <td>drive/MyDrive/fishfinder/datasets/train_annotations/train_3384.json</td>\n",
              "    </tr>\n",
              "    <tr>\n",
              "      <th>3385</th>\n",
              "      <td>drive/MyDrive/fishfinder/datasets/train_images/train_3385.jpg</td>\n",
              "      <td>drive/MyDrive/fishfinder/datasets/train_annotations/train_3385.json</td>\n",
              "    </tr>\n",
              "    <tr>\n",
              "      <th>3386</th>\n",
              "      <td>drive/MyDrive/fishfinder/datasets/train_images/train_3386.jpg</td>\n",
              "      <td>drive/MyDrive/fishfinder/datasets/train_annotations/train_3386.json</td>\n",
              "    </tr>\n",
              "  </tbody>\n",
              "</table>\n",
              "<p>3387 rows × 2 columns</p>\n",
              "</div>"
            ],
            "text/plain": [
              "                                                                image                                                            json_path\n",
              "0     drive/MyDrive/fishfinder/datasets/train_images 5/train_0000.jpg  drive/MyDrive/fishfinder/datasets/train_annotations/train_0000.json\n",
              "1     drive/MyDrive/fishfinder/datasets/train_images 5/train_0001.jpg  drive/MyDrive/fishfinder/datasets/train_annotations/train_0001.json\n",
              "2     drive/MyDrive/fishfinder/datasets/train_images 5/train_0002.jpg  drive/MyDrive/fishfinder/datasets/train_annotations/train_0002.json\n",
              "3     drive/MyDrive/fishfinder/datasets/train_images 5/train_0003.jpg  drive/MyDrive/fishfinder/datasets/train_annotations/train_0003.json\n",
              "4     drive/MyDrive/fishfinder/datasets/train_images 5/train_0004.jpg  drive/MyDrive/fishfinder/datasets/train_annotations/train_0004.json\n",
              "...                                                               ...                                                                  ...\n",
              "3382    drive/MyDrive/fishfinder/datasets/train_images/train_3382.jpg  drive/MyDrive/fishfinder/datasets/train_annotations/train_3382.json\n",
              "3383    drive/MyDrive/fishfinder/datasets/train_images/train_3383.jpg  drive/MyDrive/fishfinder/datasets/train_annotations/train_3383.json\n",
              "3384    drive/MyDrive/fishfinder/datasets/train_images/train_3384.jpg  drive/MyDrive/fishfinder/datasets/train_annotations/train_3384.json\n",
              "3385    drive/MyDrive/fishfinder/datasets/train_images/train_3385.jpg  drive/MyDrive/fishfinder/datasets/train_annotations/train_3385.json\n",
              "3386    drive/MyDrive/fishfinder/datasets/train_images/train_3386.jpg  drive/MyDrive/fishfinder/datasets/train_annotations/train_3386.json\n",
              "\n",
              "[3387 rows x 2 columns]"
            ]
          },
          "metadata": {
            "tags": []
          },
          "execution_count": 15
        }
      ]
    },
    {
      "cell_type": "markdown",
      "metadata": {
        "id": "kXYQUfMycuGq"
      },
      "source": [
        "## Global Variable"
      ]
    },
    {
      "cell_type": "code",
      "metadata": {
        "colab": {
          "base_uri": "https://localhost:8080/"
        },
        "id": "Cm0PoCjqcyx8",
        "outputId": "83590ccd-b94d-4704-f349-c674fd3e929f"
      },
      "source": [
        "DEVICE = torch.device('cuda:0' if torch.cuda.is_available() else 'cpu')\n",
        "DEVICE"
      ],
      "execution_count": 36,
      "outputs": [
        {
          "output_type": "execute_result",
          "data": {
            "text/plain": [
              "device(type='cuda', index=0)"
            ]
          },
          "metadata": {
            "tags": []
          },
          "execution_count": 36
        }
      ]
    },
    {
      "cell_type": "code",
      "metadata": {
        "id": "VC0o2kQWEf7g"
      },
      "source": [
        "def get_trainsform(mode='train'):\n",
        "  if mode == 'train':\n",
        "    transform = transforms.Compose([\n",
        "        transforms.Resize((512, 512)),\n",
        "        transforms.RandomHorizontalFlip(p=5),\n",
        "        transforms.ToTensor(),\n",
        "    ])\n",
        "  else:\n",
        "    transform = transforms.Compose([\n",
        "        transforms.Resize((512, 512)),\n",
        "        transforms.ToTensor(),\n",
        "    ])\n",
        "\n",
        "  return transform"
      ],
      "execution_count": 37,
      "outputs": []
    },
    {
      "cell_type": "markdown",
      "metadata": {
        "id": "QATgDBEoMdMq"
      },
      "source": [
        "## Dataset"
      ]
    },
    {
      "cell_type": "code",
      "metadata": {
        "id": "UmluDPhPL3lq"
      },
      "source": [
        "class Dataset(TensorDataset):\n",
        "  def __init__(self, df, mode='train', transform=None):\n",
        "    self.df = df\n",
        "    self.images = self.df['image'].values\n",
        "    self.annotations = self.df['json_path'].values\n",
        "    self.mode = mode\n",
        "    self.transform = transform\n",
        "\n",
        "  def __len__(self):\n",
        "    return self.df.shape[0]\n",
        "\n",
        "  def __getitem__(self, idx):\n",
        "    TOP = TRAIN_PATH if self.mode == 'train' else TEST_PATH\n",
        "    image = self.images[idx]\n",
        "    annotation = pd.read_json(self.annotations[idx])\n",
        "    image = Image.open(image)\n",
        "    if self.transform:\n",
        "      image = self.transform(image)\n",
        "    else:\n",
        "      image = transforms.ToTensor()(image)\n",
        "\n",
        "    if self.mode == 'test':\n",
        "      return image\n",
        "\n",
        "    labels = [\n",
        "              label\n",
        "              for label in annotation.index.values.tolist()\n",
        "              for data in annotation.loc[label, 'labels']\n",
        "              if label in classes\n",
        "    ]\n",
        "    labels = [\n",
        "              class_label[classes.index(label)] for label in labels\n",
        "    ]\n",
        "    boxes = [\n",
        "              data\n",
        "              for label in annotation.index.values.tolist()\n",
        "              for data in annotation.loc[label, 'labels']\n",
        "              if label in classes\n",
        "    ]\n",
        "    boxes = [\n",
        "             box\n",
        "             for box in boxes\n",
        "    ]\n",
        "\n",
        "    if len(labels) == 0:\n",
        "      labels = [0]\n",
        "    if len(boxes) == 0:\n",
        "      boxes = [[0, 0, 512, 512]]\n",
        "\n",
        "    labels = torch.LongTensor(labels)\n",
        "    boxes = torch.Tensor(boxes)\n",
        "    target = {\n",
        "        'boxes': boxes,\n",
        "        'labels': labels,\n",
        "    }\n",
        "\n",
        "    return image, target"
      ],
      "execution_count": 82,
      "outputs": []
    },
    {
      "cell_type": "code",
      "metadata": {
        "id": "IoESo5rhCZzn"
      },
      "source": [
        "def collate_fn(batch):\n",
        "  images, targets = list(zip(*batch))\n",
        "  images = torch.stack(images)\n",
        "\n",
        "  return images, targets"
      ],
      "execution_count": 83,
      "outputs": []
    },
    {
      "cell_type": "code",
      "metadata": {
        "id": "E_5CpM69Zqs1"
      },
      "source": [
        "dataset = Dataset(df_path, 'train', transform=get_trainsform())"
      ],
      "execution_count": 84,
      "outputs": []
    },
    {
      "cell_type": "code",
      "metadata": {
        "id": "rJUUgjGYailc"
      },
      "source": [
        "model = torchvision.models.detection.fasterrcnn_resnet50_fpn(pretrained=False, progress=True, num_classes=num_class)"
      ],
      "execution_count": 85,
      "outputs": []
    },
    {
      "cell_type": "code",
      "metadata": {
        "id": "Tv5l-c5LEEdW"
      },
      "source": [
        "train_set = DataLoader(dataset, batch_size=16, shuffle=True, collate_fn=collate_fn)"
      ],
      "execution_count": 86,
      "outputs": []
    },
    {
      "cell_type": "markdown",
      "metadata": {
        "id": "ckd4mnBGE54b"
      },
      "source": [
        "## Modeling"
      ]
    },
    {
      "cell_type": "code",
      "metadata": {
        "id": "F0WBzO9FE78R"
      },
      "source": [
        "criterion = nn.CrossEntropyLoss()\n",
        "optimizer = Adam(model.parameters(), lr=.001)"
      ],
      "execution_count": 87,
      "outputs": []
    },
    {
      "cell_type": "code",
      "metadata": {
        "colab": {
          "base_uri": "https://localhost:8080/",
          "height": 253
        },
        "id": "PkNMObIx_B6g",
        "outputId": "e6cf7f9a-6bed-4115-e759-b1f5a6944c52"
      },
      "source": [
        "model.to(DEVICE)\n",
        "model.train()\n",
        "for e in range(5):\n",
        "  print(f'### Epoch: {e+1} ###')\n",
        "  for i, (images, targets) in enumerate(train_set):\n",
        "    images = images.to(DEVICE)\n",
        "    # targets = targets.to(DEVICE)\n",
        "    for target in targets:\n",
        "      for k, v in target.items():\n",
        "        target[k] = v.to(DEVICE)\n",
        "    output = model(images, targets)\n",
        "    print(output)\n",
        "    \n",
        "    # loss = criterion(output, targets)\n",
        "    optimizer.zero_grad()\n",
        "    optimizer.step()\n",
        "    if i % 10 == 0:\n",
        "      print(f'STEP {i} >>>')\n",
        "      print(' | '.join(f'{k}: {v}' for k, v in output))"
      ],
      "execution_count": 91,
      "outputs": [
        {
          "output_type": "stream",
          "text": [
            "### Epoch: 1 ###\n"
          ],
          "name": "stdout"
        },
        {
          "output_type": "error",
          "ename": "ValueError",
          "evalue": "ignored",
          "traceback": [
            "\u001b[0;31m---------------------------------------------------------------------------\u001b[0m",
            "\u001b[0;31mValueError\u001b[0m                                Traceback (most recent call last)",
            "\u001b[0;32m<ipython-input-91-1fc97acd4018>\u001b[0m in \u001b[0;36m<module>\u001b[0;34m()\u001b[0m\n\u001b[1;32m      3\u001b[0m \u001b[0;32mfor\u001b[0m \u001b[0me\u001b[0m \u001b[0;32min\u001b[0m \u001b[0mrange\u001b[0m\u001b[0;34m(\u001b[0m\u001b[0;36m5\u001b[0m\u001b[0;34m)\u001b[0m\u001b[0;34m:\u001b[0m\u001b[0;34m\u001b[0m\u001b[0;34m\u001b[0m\u001b[0m\n\u001b[1;32m      4\u001b[0m   \u001b[0mprint\u001b[0m\u001b[0;34m(\u001b[0m\u001b[0;34mf'### Epoch: {e+1} ###'\u001b[0m\u001b[0;34m)\u001b[0m\u001b[0;34m\u001b[0m\u001b[0;34m\u001b[0m\u001b[0m\n\u001b[0;32m----> 5\u001b[0;31m   \u001b[0;32mfor\u001b[0m \u001b[0mi\u001b[0m\u001b[0;34m,\u001b[0m \u001b[0mimages\u001b[0m\u001b[0;34m,\u001b[0m \u001b[0mtargets\u001b[0m \u001b[0;32min\u001b[0m \u001b[0menumerate\u001b[0m\u001b[0;34m(\u001b[0m\u001b[0mtrain_set\u001b[0m\u001b[0;34m)\u001b[0m\u001b[0;34m:\u001b[0m\u001b[0;34m\u001b[0m\u001b[0;34m\u001b[0m\u001b[0m\n\u001b[0m\u001b[1;32m      6\u001b[0m     \u001b[0mimages\u001b[0m \u001b[0;34m=\u001b[0m \u001b[0mimages\u001b[0m\u001b[0;34m.\u001b[0m\u001b[0mto\u001b[0m\u001b[0;34m(\u001b[0m\u001b[0mDEVICE\u001b[0m\u001b[0;34m)\u001b[0m\u001b[0;34m\u001b[0m\u001b[0;34m\u001b[0m\u001b[0m\n\u001b[1;32m      7\u001b[0m     \u001b[0;31m# targets = targets.to(DEVICE)\u001b[0m\u001b[0;34m\u001b[0m\u001b[0;34m\u001b[0m\u001b[0;34m\u001b[0m\u001b[0m\n",
            "\u001b[0;31mValueError\u001b[0m: not enough values to unpack (expected 3, got 2)"
          ]
        }
      ]
    },
    {
      "cell_type": "code",
      "metadata": {
        "colab": {
          "base_uri": "https://localhost:8080/"
        },
        "id": "R-NUIsIrAKUq",
        "outputId": "70bce6b4-3e54-4f34-e7fa-f2c4f58f8de6"
      },
      "source": [
        "images, targets"
      ],
      "execution_count": 81,
      "outputs": [
        {
          "output_type": "execute_result",
          "data": {
            "text/plain": [
              "(tensor([[[[0.7882, 0.7804, 0.7412,  ..., 0.6196, 0.6235, 0.6118],\n",
              "           [0.7608, 0.7882, 0.7882,  ..., 0.6118, 0.6157, 0.6196],\n",
              "           [0.7765, 0.7686, 0.7882,  ..., 0.6078, 0.6118, 0.6157],\n",
              "           ...,\n",
              "           [0.2745, 0.2510, 0.2510,  ..., 0.2235, 0.2235, 0.2196],\n",
              "           [0.2549, 0.2706, 0.2510,  ..., 0.2275, 0.2275, 0.2235],\n",
              "           [0.2627, 0.2588, 0.2275,  ..., 0.2235, 0.2235, 0.2275]],\n",
              " \n",
              "          [[0.9176, 0.9059, 0.8941,  ..., 0.8118, 0.8196, 0.8039],\n",
              "           [0.8980, 0.9216, 0.9216,  ..., 0.8039, 0.8078, 0.8118],\n",
              "           [0.9098, 0.8941, 0.9176,  ..., 0.7961, 0.8078, 0.8196],\n",
              "           ...,\n",
              "           [0.5451, 0.5098, 0.4902,  ..., 0.3882, 0.3882, 0.3765],\n",
              "           [0.5176, 0.5176, 0.4980,  ..., 0.3843, 0.3922, 0.3843],\n",
              "           [0.4941, 0.4784, 0.4627,  ..., 0.3843, 0.3882, 0.3843]],\n",
              " \n",
              "          [[0.9804, 0.9804, 0.9686,  ..., 0.9608, 0.9608, 0.9490],\n",
              "           [0.9804, 0.9882, 0.9804,  ..., 0.9490, 0.9451, 0.9608],\n",
              "           [0.9804, 0.9686, 0.9725,  ..., 0.9451, 0.9529, 0.9490],\n",
              "           ...,\n",
              "           [0.7686, 0.7373, 0.7255,  ..., 0.6235, 0.6235, 0.6157],\n",
              "           [0.7451, 0.7490, 0.7255,  ..., 0.6235, 0.6275, 0.6235],\n",
              "           [0.7294, 0.7176, 0.6980,  ..., 0.6235, 0.6235, 0.6235]]],\n",
              " \n",
              " \n",
              "         [[[0.7255, 0.7216, 0.7255,  ..., 0.7804, 0.7765, 0.7765],\n",
              "           [0.7255, 0.7255, 0.7255,  ..., 0.7804, 0.7765, 0.7765],\n",
              "           [0.7294, 0.7294, 0.7333,  ..., 0.7804, 0.7804, 0.7804],\n",
              "           ...,\n",
              "           [0.3333, 0.3804, 0.5922,  ..., 0.0745, 0.0784, 0.0667],\n",
              "           [0.3255, 0.3804, 0.4431,  ..., 0.1020, 0.0902, 0.0745],\n",
              "           [0.3647, 0.4118, 0.3020,  ..., 0.1686, 0.1373, 0.1569]],\n",
              " \n",
              "          [[0.8392, 0.8353, 0.8392,  ..., 0.8588, 0.8549, 0.8549],\n",
              "           [0.8392, 0.8392, 0.8392,  ..., 0.8588, 0.8549, 0.8549],\n",
              "           [0.8431, 0.8431, 0.8471,  ..., 0.8588, 0.8588, 0.8588],\n",
              "           ...,\n",
              "           [0.4118, 0.4392, 0.6471,  ..., 0.1490, 0.1490, 0.1373],\n",
              "           [0.3922, 0.4275, 0.4824,  ..., 0.1804, 0.1647, 0.1490],\n",
              "           [0.4275, 0.4588, 0.3725,  ..., 0.2510, 0.2196, 0.2392]],\n",
              " \n",
              "          [[0.9098, 0.9059, 0.9098,  ..., 0.8941, 0.8902, 0.8902],\n",
              "           [0.9098, 0.9098, 0.9098,  ..., 0.8941, 0.8902, 0.8902],\n",
              "           [0.9137, 0.9137, 0.9176,  ..., 0.8941, 0.8941, 0.8941],\n",
              "           ...,\n",
              "           [0.4863, 0.5176, 0.6980,  ..., 0.2941, 0.2902, 0.2784],\n",
              "           [0.4706, 0.5098, 0.5451,  ..., 0.3216, 0.3020, 0.2902],\n",
              "           [0.5059, 0.5490, 0.4745,  ..., 0.3882, 0.3529, 0.3765]]],\n",
              " \n",
              " \n",
              "         [[[0.9843, 0.9843, 0.9843,  ..., 0.9529, 0.9569, 0.9647],\n",
              "           [0.9843, 0.9843, 0.9843,  ..., 0.9451, 0.9490, 0.9529],\n",
              "           [0.9843, 0.9843, 0.9843,  ..., 0.9451, 0.9451, 0.9451],\n",
              "           ...,\n",
              "           [0.2353, 0.2275, 0.1961,  ..., 0.2118, 0.2314, 0.2275],\n",
              "           [0.2118, 0.2118, 0.1922,  ..., 0.2157, 0.2275, 0.2431],\n",
              "           [0.2078, 0.2078, 0.1961,  ..., 0.2196, 0.2157, 0.2314]],\n",
              " \n",
              "          [[0.9922, 0.9922, 0.9922,  ..., 0.9686, 0.9725, 0.9804],\n",
              "           [0.9922, 0.9922, 0.9922,  ..., 0.9608, 0.9647, 0.9686],\n",
              "           [0.9922, 0.9922, 0.9922,  ..., 0.9569, 0.9569, 0.9569],\n",
              "           ...,\n",
              "           [0.4000, 0.3922, 0.3490,  ..., 0.3647, 0.3922, 0.3961],\n",
              "           [0.3765, 0.3765, 0.3490,  ..., 0.3647, 0.3882, 0.4157],\n",
              "           [0.3765, 0.3765, 0.3608,  ..., 0.3686, 0.3765, 0.4039]],\n",
              " \n",
              "          [[0.9804, 0.9804, 0.9804,  ..., 0.9804, 0.9843, 0.9922],\n",
              "           [0.9804, 0.9804, 0.9804,  ..., 0.9765, 0.9765, 0.9804],\n",
              "           [0.9804, 0.9804, 0.9804,  ..., 0.9765, 0.9765, 0.9765],\n",
              "           ...,\n",
              "           [0.5569, 0.5490, 0.5098,  ..., 0.5373, 0.5569, 0.5647],\n",
              "           [0.5412, 0.5412, 0.5098,  ..., 0.5333, 0.5529, 0.5804],\n",
              "           [0.5412, 0.5412, 0.5216,  ..., 0.5412, 0.5412, 0.5686]]],\n",
              " \n",
              " \n",
              "         [[[0.8941, 0.8902, 0.9137,  ..., 0.7490, 0.7490, 0.7529],\n",
              "           [0.9059, 0.9020, 0.9176,  ..., 0.7647, 0.7569, 0.7647],\n",
              "           [0.9216, 0.9176, 0.9059,  ..., 0.7804, 0.7843, 0.7882],\n",
              "           ...,\n",
              "           [0.1608, 0.1686, 0.1765,  ..., 0.1569, 0.1176, 0.1176],\n",
              "           [0.1725, 0.1804, 0.1725,  ..., 0.1608, 0.1216, 0.1216],\n",
              "           [0.1725, 0.1725, 0.1725,  ..., 0.1490, 0.1216, 0.1294]],\n",
              " \n",
              "          [[0.9843, 0.9843, 0.9922,  ..., 0.8941, 0.8902, 0.9059],\n",
              "           [0.9882, 0.9882, 0.9961,  ..., 0.9020, 0.8980, 0.9020],\n",
              "           [0.9961, 0.9961, 0.9922,  ..., 0.9020, 0.9137, 0.9098],\n",
              "           ...,\n",
              "           [0.3059, 0.3137, 0.3216,  ..., 0.3098, 0.2745, 0.2745],\n",
              "           [0.3098, 0.3176, 0.3098,  ..., 0.3137, 0.2745, 0.2784],\n",
              "           [0.3098, 0.3098, 0.3098,  ..., 0.3020, 0.2745, 0.2824]],\n",
              " \n",
              "          [[0.9843, 0.9843, 0.9882,  ..., 0.9725, 0.9647, 0.9686],\n",
              "           [0.9843, 0.9843, 0.9961,  ..., 0.9882, 0.9725, 0.9725],\n",
              "           [0.9961, 0.9961, 1.0000,  ..., 0.9843, 0.9765, 0.9804],\n",
              "           ...,\n",
              "           [0.5216, 0.5294, 0.5373,  ..., 0.5255, 0.4980, 0.5059],\n",
              "           [0.5333, 0.5451, 0.5373,  ..., 0.5373, 0.4980, 0.5098],\n",
              "           [0.5373, 0.5373, 0.5373,  ..., 0.5216, 0.4980, 0.5137]]]],\n",
              "        device='cuda:0'),\n",
              " ({'boxes': tensor([[1263.,  946., 2213., 1449.]], device='cuda:0'),\n",
              "   'labels': tensor([1], device='cuda:0', dtype=torch.int32)},\n",
              "  {'boxes': tensor([[ 821.,  705., 1853.,  789.]], device='cuda:0'),\n",
              "   'labels': tensor([1], device='cuda:0', dtype=torch.int32)},\n",
              "  {'boxes': tensor([[1881.,  998., 1916., 1020.]], device='cuda:0'),\n",
              "   'labels': tensor([2], device='cuda:0', dtype=torch.int32)},\n",
              "  {'boxes': tensor([[ 581.,  609., 3235., 2001.],\n",
              "           [1743.,  709., 2597., 1052.],\n",
              "           [ 830.,  711., 1725., 1265.],\n",
              "           [1112.,  567., 1202.,  603.],\n",
              "           [1899.,  473., 2368.,  675.]], device='cuda:0'),\n",
              "   'labels': tensor([1, 2, 2, 2, 2], device='cuda:0', dtype=torch.int32)}))"
            ]
          },
          "metadata": {
            "tags": []
          },
          "execution_count": 81
        }
      ]
    },
    {
      "cell_type": "code",
      "metadata": {
        "id": "BV6uITy0CORZ"
      },
      "source": [
        ""
      ],
      "execution_count": null,
      "outputs": []
    }
  ]
}